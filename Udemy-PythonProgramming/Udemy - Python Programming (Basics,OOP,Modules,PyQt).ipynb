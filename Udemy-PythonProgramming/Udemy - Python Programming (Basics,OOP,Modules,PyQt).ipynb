{
 "cells": [
  {
   "cell_type": "markdown",
   "metadata": {},
   "source": [
    "# Python Programming Full Course (Basics,OOP,MOdules,PyQt)"
   ]
  },
  {
   "cell_type": "markdown",
   "metadata": {},
   "source": [
    "- __What is Programming?__<br />\n",
    "    The process of developing and implementing variouse sets of instructions to envable a computer to do a certain task. These instructions are considered computer programs and help the computer to operate smoothly\n",
    "- __Two Types of Programming Languages__\n",
    "    - Low Level Languages\n",
    "        - The language of the computer\n",
    "        - It consists of 1,0\n",
    "        - It is easy to be Executed\n",
    "        - It is hard to programe\n",
    "        - Can run only of one kind of computer and have to be rewritten to another\n",
    "        - Like C, Assembly\n",
    "    - High Level Languages\n",
    "        - Easy to programe\n",
    "        - Takes less time to be coded\n",
    "        - Easy to be corrected\n",
    "        - Portable (only one programe can run on any pc)\n",
    "        - Like jave, c# & python\n",
    "- __Why Python__\n",
    "    - Easy to programe & easy to read\n",
    "    - Open source\n",
    "    - Play with other languages and easily extendible\n",
    "    - Cross Platform\n",
    "    - Fast\n",
    "    - Can use python for all fields\n",
    "    - Many Platforms\n",
    "#### Interpreter VS Compiler\n",
    "- __Overview:__\n",
    "    - The high level languages need to be Executed on the pc\n",
    "    - But computer understand only 1,0\n",
    "    - We need to transform the high level code to low level code so that computer can understand it\n",
    "- __Interpreter__\n",
    "    - The interpreter will transform the code from the first to the las word by word\n",
    "    - If interpreter find one error it will sto working raising this error\n",
    "    - Like Python\n",
    "- __Compiler__\n",
    "    - The compiler will transform the whole code\n",
    "    - If the compiler found any error it will continue and when it finish it will raise all the errors\n",
    "    - Like C#\n",
    "#### Python Variables\n",
    "- __What is a variable?__\n",
    "    - Variable: is a name that refers to a value\n",
    "    - Variable = variable name + variable value\n",
    "    - You can declare any value\n",
    "    - There is conditions to declare name !\n",
    "- __Conditions of declare a name__\n",
    "    - Can contain both letters and numbers\n",
    "    - Have to begin with letters\n",
    "    - You can use underscore character\n",
    "    - You can use uppercase letters\n",
    "    - Python are case sensitive\n",
    "- __Reserved Words:__\n",
    "    <img src=\"./img/Reserved Words.png\"/>\n",
    "- __Assigning Value to Variables__\n",
    "    - Single assignment:\n",
    "        - ex: x = 5\n",
    "        - ex: s = \"Welcome\"\n",
    "    - Multi assignment:\n",
    "        - ex: x,y = 5,3\n",
    "        - ex: a=b=c 1\n",
    "- __Variable Types__\n",
    "    1. __Int:__ is a whole number, positive or negative, without decimals, of unlimited length.<br /> Example. Integers: x = 1 y = 35656222554887711 z = -3255522\n",
    "    2. __String:__ ontaining all ASCII characters that are considered whitespace. This includes the characters space, tab, linefeed, return, formfeed, ...\n",
    "    3. __Float:__ Float is used to represent real numbers and is written with a decimal point dividing the integer and fractional parts. For example, 97.98, 32.3+e18, -32.54e100 all are floating point numbers.\n",
    "    4. __Bool:__ represent one of two values: True or False\n",
    "    5. __List:__ Lists are used to store multiple items in a single variable. ex:\n",
    "        ```thislist = [\"apple\", \"banana\", \"cherry\"]```\n",
    "    6. __Dictionary:__\n",
    "        - Dictionaries are used to store data values in key: value pairs.\n",
    "        - A dictionary is a collection which is ordered*, changeable and do not allow duplicates.\n",
    "        ```python\n",
    "        thisdict = {\n",
    "        \"brand\": \"Ford\",\n",
    "        \"model\": \"Mustang\",\n",
    "        \"year\": 1964\n",
    "        ```\n",
    "    7. __Tuple:__\n",
    "        - Tuples are used to store multiple items in a single variable.\n",
    "        - A tuple is a collection which is ordered and unchangeable.\n",
    "        - Tuples are written with round brackets\n",
    "        ```python\n",
    "        thistuple = (\"apple\", \"banana\", \"cherry\")\n",
    "        ```\n",
    "- __Type Method:__\n",
    "    - You can use the type() method to know the type of the variable, ex:\n",
    "    ```python\n",
    "    x = 5\n",
    "    s = 'welcome'\n",
    "    type(x) => Class 'int'\n",
    "    type(s) => Class 'str'\n",
    "\n",
    "    ```"
   ]
  },
  {
   "cell_type": "markdown",
   "metadata": {},
   "source": [
    "#### Python Operator\n",
    "- __There are 3 types of operators__\n",
    "    - Arithmatic Operator\n",
    "    - Comparison Operator\n",
    "    - Assignment Operator\n",
    "- __Arithmatic Operator__<br />\n",
    "<img src=\"./img/Aritmatic Operator.png\">\n",
    "\n",
    "- __Comparison Operator__<br />\n",
    "<img src=\"./img/ComparisonOperators.png\">\n",
    "\n",
    "- __Assignment Operator__<br />\n",
    "<img src=\"./img/AssignmentOperators.png\">"
   ]
  },
  {
   "cell_type": "markdown",
   "metadata": {},
   "source": [
    "#### Python Loops\n",
    "- __Loop Types:__\n",
    "    - While Loop \n",
    "        - Repeats a statement or group of statements while a given condition is true. It tests the condition before executing the loop body.\n",
    "        - \n",
    "    - Infinite Loop\n",
    "        - \n",
    "    - For Loop\n",
    "        - The for loop iterates over the elements of a collection\n",
    "    - Nested Loop\n",
    "        - One loop inside other loop\n",
    "- __For vs While:__\n",
    "    - For loop\n",
    "        - you should use the for loop when the number of iteration is known\n",
    "        - The loop iterates over the elements of a collection\n",
    "        - The loop iterates over a range of values which is known in advance at execution\n",
    "    - While loop\n",
    "        - The while statement simply loops until a condition is False\n",
    "        - The while loop is the more general one because its loop condition is more flexible and can be more complicated than that of a for\n",
    "        - The while loop can take every boolean expression as condition\n",
    "- __Control Statements:__\n",
    "    - Break\n",
    "        - The break statement in Python terminates the current loop and resumes execution at the next statement\n",
    "        - The most common use for break is when some external condition is triggered requiring a hasty exit from a loop\n",
    "        - The break statement can be used in both while and for loops\n",
    "    - Continue\n",
    "        - The continue statement in Python returns the control to the beginning of the while loop\n",
    "        - The continue statement rejects all the remaining statement in the current iteration of the loop and moves the control back the the top of the loop\n",
    "    - Pass\n",
    "        - The pass statement in Python is used when a statement is required syntactically but you do not want any command or code to execute\n",
    "        - The pass statement is a null operation; nothing happens when it executes\n",
    "        - The pass is also useful in places where your code will eventually go, but has not been written yet.\n"
   ]
  },
  {
   "cell_type": "markdown",
   "metadata": {},
   "source": [
    "#### Python Condition\n",
    "- __Condition in Python__<br />\n",
    "    A Decision is when a program has more than one choice of actions depending on a variable's value. Think of a traffic light. When it is green, we continue our drive. When we see the light turn yellow, we reduce our speed, and when it is red, we stop. These are logical decisions that depend on the value of the traffic light. Luckily, Python has a decision statement to help us when our application needs to make such decision for the user."
   ]
  },
  {
   "cell_type": "markdown",
   "metadata": {},
   "source": [
    "#### Python Function\n",
    "- __What is Function:__\n",
    "    - A function is a block of organized, reusable code that is used to perform a single, related action.\n",
    "    - Function provide better modularity for your application and a high degree of code reusing\n",
    "    - Pyhton gives you many built-in functions like print()\n",
    "    - You can also create your own functions. These functions are called user-definded functions\n",
    "- __How to Define a Function?__\n",
    "    - Function blocks begin with the keyword __def__ followed by the function name and parentheses()\n",
    "    - Any input parameters or arguments should be placed within these parentheses. You can also define parameters inside these parentheses\n",
    "    - The first statement of a function can be an optional statement - the documentation string of the function or docstring.\n",
    "    - The code block within every function start with a colod(:) and is indented.\n",
    "    - The statement return [expression] exits a fuction, optionally passing bck an expression to the caller. A return statement with no arguments is the same as return None.\n",
    "- __Calling a Function__\n",
    "    - Defining a function only gives it a name, specifies the parameters that are to be included in the function and structures the blocks of code.\n",
    "    - Once the basic structure of a function is finalized, you can execute it by calling it from another function or directly from the python prompt. Following is the example to call printme() function.\n",
    "- __Python Function Arguments__\n",
    "    - you can call a function by using the following types of formal arguments:\n",
    "        - __Required arguments:__ are the arguments passed to a function in correct positional order. Here, the number of arguments int the function call should match exactly with the function definition here\n",
    "        - __Keyword arguments__\n",
    "            - Keyword arguments are related to the function calls. When you use keyword arguments a function call, the caller identifies the arguments by the parameter name.\n",
    "            - This allows you to skip arguments or place them out of order because the python interpreter is able to use the keywords provided to match the values with parameters. you can also make keyword calls to the printme() fucntion.\n",
    "        - __Default arguments__\n",
    "            - A default argument is an argument that assumes a default value if a value is not provided in the function call for that argument.\n",
    "        - __Variable-length argument__\n",
    "            - You may need to preocess a function for more arguments than you specified while defining the function. These arguments are called variable-lengtharguments and are not named in the function definition, unlike required and default arguments.\n",
    "- __What is Anonymous Function__\n",
    "    - These function are called anonymous because they are not declared in the standard manner by using the def keyword. You can use the lambda keyword to create small anonymous function.\n",
    "    - Lambda forms can take any number of arguments but return just one value in the form of a expression. They cannot contain commands or multiple expressions.\n",
    "    - An anonymous function cannot be a direct call to print because lambda requires an expression\n",
    "    - Lambda functions have their own local namespace and cannot access variables other than those in their parameter list and those in the global namespace\n",
    "- __Return Statement__\n",
    "    - The statement return [expression] exits a function, optionally passing back an expression to the caller. A return statement with no arguments is the same as return None\n",
    "    \n"
   ]
  },
  {
   "cell_type": "markdown",
   "metadata": {},
   "source": [
    "#### Python Strings\n",
    "- __String ..?__\n",
    "    - Strings are amongst the most popular types in Python. We can crete them simply by enclosing characters in quotes. Python treats single quotes the same as double quotes\n",
    "    - Creating strings is s simple as assigning a value to a variable\n",
    "- __Accessing Values in Strings:__\n",
    "    - Python does not support a character type; these are treated as strings of length one, thus also considered a substring.\n",
    "    - To access substrings, use the square brackets for slicing along with the index or indices to obtain your substring.\n",
    "- __String Formatting Operator:__\n",
    "    - One of Python's coolest features is the string format operator %\n",
    "- __Raw String:__\n",
    "    - Raw strings don't treat the backslash as a special character t all. Every character you put into a raw string stays the way you wrote it.\n",
    "- __Python String Methods:__\n",
    "    - Capitalize() -> Caapitalizes first letter of string\n",
    "    - Lower() -> Converts all uppercase letters in string to lowercase\n",
    "    - Upper() -> Converts lowercase letters in string to uppercase\n",
    "    - isspace() -> Returns true if string contains only whitespace characters and false otherwise\n",
    "    - islower() -> Returns true is string has at least 1 cased charcter and ll cased characters re i lowercase nd false otherwise\n",
    "    - Isupper() -> Return true if string has at least one cased character and all cased character are in uppercase and false otherwise\n"
   ]
  },
  {
   "cell_type": "markdown",
   "metadata": {},
   "source": [
    "#### Python List\n",
    "- __List ..?__\n",
    "    - The most basic data structure in python is the sequence. Each element of a sequence is assigned a number - its position or index. The first index is zero, the second index one, and so forth\n",
    "    - Creating a list is as simple as putting different comma-separated values between squere brackets.\n",
    "- __Acessing Values in Lists:__\n",
    "    - To access values in lists, use the square brackets for slicing along with the index or indices to obtain value available at that index"
   ]
  },
  {
   "cell_type": "code",
   "execution_count": 1,
   "metadata": {},
   "outputs": [
    {
     "name": "stdout",
     "output_type": "stream",
     "text": [
      "list1[0]:  physic\n",
      "list1[3]:  2000\n"
     ]
    }
   ],
   "source": [
    "list1 = ['physic','chemistry',1997,2000]\n",
    "print(\"list1[0]: \", list1[0])\n",
    "print(\"list1[3]: \", list1[3])"
   ]
  },
  {
   "cell_type": "markdown",
   "metadata": {},
   "source": [
    "- __Updating Lists:__\n",
    "    - You can update single or multiple elements of ists by giving the slice on the left-hand side of the assignment operator, and you can add to elements in a list with the append() method."
   ]
  },
  {
   "cell_type": "code",
   "execution_count": 2,
   "metadata": {},
   "outputs": [
    {
     "name": "stdout",
     "output_type": "stream",
     "text": [
      "2001\n"
     ]
    }
   ],
   "source": [
    "list1 = ['physic','chemistry',1997,2000]\n",
    "list1[2] = 2001;\n",
    "print(list1[2])"
   ]
  },
  {
   "cell_type": "markdown",
   "metadata": {},
   "source": [
    "- __Delete List Elements:__\n",
    "    - To remove a list element, you can use either the del statement if you know exactly ehich element(s) you are deleting or the remove() method if you do not know."
   ]
  },
  {
   "cell_type": "code",
   "execution_count": 3,
   "metadata": {},
   "outputs": [
    {
     "name": "stdout",
     "output_type": "stream",
     "text": [
      "['physic', 'chemistry', 1997, 2000]\n",
      "['physic', 'chemistry', 2000]\n"
     ]
    }
   ],
   "source": [
    "list1 = ['physic','chemistry',1997,2000]\n",
    "print(list1)\n",
    "del list1[2]\n",
    "print(list1)"
   ]
  },
  {
   "cell_type": "markdown",
   "metadata": {},
   "source": [
    "- __Len()__\n",
    "    - Gives the total lengt of the list."
   ]
  },
  {
   "cell_type": "code",
   "execution_count": 4,
   "metadata": {},
   "outputs": [
    {
     "name": "stdout",
     "output_type": "stream",
     "text": [
      "4\n"
     ]
    }
   ],
   "source": [
    "list1 = ['physic','chemistry',1997,2000]\n",
    "print(len(list1))"
   ]
  },
  {
   "cell_type": "markdown",
   "metadata": {},
   "source": [
    "- __Index()__\n",
    "    - Method to returns the position at the first occurence of the specified value."
   ]
  },
  {
   "cell_type": "code",
   "execution_count": 5,
   "metadata": {},
   "outputs": [
    {
     "name": "stdout",
     "output_type": "stream",
     "text": [
      "0\n"
     ]
    }
   ],
   "source": [
    "list1 = ['physic','chemistry',1997,2000]\n",
    "print(list1.index('physic'))"
   ]
  },
  {
   "cell_type": "markdown",
   "metadata": {},
   "source": [
    "- __Insert()__\n",
    "    - Method inserts the specified value at the specified position."
   ]
  },
  {
   "cell_type": "code",
   "execution_count": 6,
   "metadata": {},
   "outputs": [
    {
     "name": "stdout",
     "output_type": "stream",
     "text": [
      "['physic', 'math', 'chemistry', 1997, 2000]\n"
     ]
    }
   ],
   "source": [
    "list1 = ['physic','chemistry',1997,2000]\n",
    "list1.insert(1,'math')\n",
    "print(list1)"
   ]
  },
  {
   "cell_type": "markdown",
   "metadata": {},
   "source": [
    "- __Apend()__\n",
    "    - method appends an element to the end of the list"
   ]
  },
  {
   "cell_type": "code",
   "execution_count": 7,
   "metadata": {},
   "outputs": [
    {
     "name": "stdout",
     "output_type": "stream",
     "text": [
      "['physic', 'chemistry', 1997, 2000, 'data structures']\n"
     ]
    }
   ],
   "source": [
    "list1 = ['physic','chemistry',1997,2000]\n",
    "list1.append('data structures')\n",
    "print(list1)"
   ]
  },
  {
   "cell_type": "markdown",
   "metadata": {},
   "source": [
    "- __Count()__\n",
    "    - Method returns the number of elements with the specified value"
   ]
  },
  {
   "cell_type": "code",
   "execution_count": 8,
   "metadata": {},
   "outputs": [
    {
     "name": "stdout",
     "output_type": "stream",
     "text": [
      "total chemistry:  2\n",
      "total physic:  1\n"
     ]
    }
   ],
   "source": [
    "list1 = ['physic','chemistry',1997,2000,'chemistry']\n",
    "print(\"total chemistry: \",list1.count('chemistry'))\n",
    "print(\"total physic: \",list1.count('physic'))\n"
   ]
  },
  {
   "cell_type": "markdown",
   "metadata": {},
   "source": [
    "- __Pop()__\n",
    "    - Method removes the item at the given index rom the list and returns the removed item."
   ]
  },
  {
   "cell_type": "code",
   "execution_count": 10,
   "metadata": {},
   "outputs": [
    {
     "name": "stdout",
     "output_type": "stream",
     "text": [
      "chemistry\n",
      "['physic', 'chemistry', 1997, 2000]\n"
     ]
    }
   ],
   "source": [
    "list1 = ['physic','chemistry',1997,2000,'chemistry']\n",
    "print(list1.pop())\n",
    "print(list1)"
   ]
  },
  {
   "cell_type": "markdown",
   "metadata": {},
   "source": [
    "- __Reverse()__\n",
    "    - Method reverses the sorting order of the elements"
   ]
  },
  {
   "cell_type": "code",
   "execution_count": 12,
   "metadata": {},
   "outputs": [
    {
     "name": "stdout",
     "output_type": "stream",
     "text": [
      "['chemistry', 2000, 1997, 'chemistry', 'physic']\n"
     ]
    }
   ],
   "source": [
    "list1 = ['physic','chemistry',1997,2000,'chemistry']\n",
    "list1.reverse()\n",
    "print(list1)"
   ]
  },
  {
   "cell_type": "markdown",
   "metadata": {},
   "source": [
    "- __Remove()__\n",
    "    - method takes a single element as an argument and removes it from the list."
   ]
  },
  {
   "cell_type": "code",
   "execution_count": 13,
   "metadata": {},
   "outputs": [
    {
     "name": "stdout",
     "output_type": "stream",
     "text": [
      "['physic', 'chemistry', 2000, 'chemistry']\n"
     ]
    }
   ],
   "source": [
    "list1 = ['physic','chemistry',1997,2000,'chemistry']\n",
    "list1.remove(1997)\n",
    "print(list1)"
   ]
  },
  {
   "cell_type": "markdown",
   "metadata": {},
   "source": [
    "#### Python Tuple\n",
    "- __Tuple ..?__\n",
    "    - A tuple is a sequence of immutable Python objects. Tuple are sequences, just like lists.\n",
    "    - The only difference is that tuples can't be changed. i.e. Tuples are immutable and tuples use parentheses and lists use square brackets.\n",
    "    - Creating a tuple is as simple as putting different comma-seperated values and optionally you can put these comma-separated values between parenteses alse"
   ]
  },
  {
   "cell_type": "code",
   "execution_count": 14,
   "metadata": {},
   "outputs": [],
   "source": [
    "tup1 = ('physic','chemistry',1997,2000)"
   ]
  },
  {
   "cell_type": "markdown",
   "metadata": {},
   "source": [
    "- __Accessing Values in Tuples:__\n",
    "    - To access values in tuple, use the square bracket for slicing along with the inces or indices to obtain value available at that index."
   ]
  },
  {
   "cell_type": "code",
   "execution_count": 15,
   "metadata": {},
   "outputs": [
    {
     "name": "stdout",
     "output_type": "stream",
     "text": [
      "tup1[0]:  physic\n",
      "tup1[3]:  2000\n"
     ]
    }
   ],
   "source": [
    "tup1 = ('physic','chemistry',1997,2000)\n",
    "print(\"tup1[0]: \", tup1[0])\n",
    "print(\"tup1[3]: \", tup1[3])"
   ]
  },
  {
   "cell_type": "markdown",
   "metadata": {},
   "source": [
    "- __Updating Tuples:__\n",
    "    - Tuples are immutable which means you cannot update them or change values of tuple elements. But we able to take portions of an existing tuples to create a new tuples as follow."
   ]
  },
  {
   "cell_type": "code",
   "execution_count": 16,
   "metadata": {},
   "outputs": [
    {
     "data": {
      "text/plain": [
       "(12, 34.56, 'abc', 'xyz')"
      ]
     },
     "execution_count": 16,
     "metadata": {},
     "output_type": "execute_result"
    }
   ],
   "source": [
    "tup1 = (12,34.56) ; tup2 = ('abc','xyz')\n",
    "tup3 = tup1 + tup2\n",
    "tup3"
   ]
  },
  {
   "cell_type": "markdown",
   "metadata": {},
   "source": [
    "- __Delete Tuple Elements:__\n",
    "    - Removing individual tuple elements is not possible. There is, of course, nothing wrong with putting together another tuple with the undesired elements discarded.\n",
    "    - To explicitly remove an entire tuple, just use the del statement."
   ]
  },
  {
   "cell_type": "code",
   "execution_count": 17,
   "metadata": {},
   "outputs": [
    {
     "name": "stdout",
     "output_type": "stream",
     "text": [
      "('physic', 'chemistry', 1997, 2000)\n"
     ]
    },
    {
     "ename": "NameError",
     "evalue": "name 'tup1' is not defined",
     "output_type": "error",
     "traceback": [
      "\u001b[0;31m---------------------------------------------------------------------------\u001b[0m",
      "\u001b[0;31mNameError\u001b[0m                                 Traceback (most recent call last)",
      "\u001b[0;32m/tmp/ipykernel_14436/3154347681.py\u001b[0m in \u001b[0;36m<module>\u001b[0;34m\u001b[0m\n\u001b[1;32m      2\u001b[0m \u001b[0mprint\u001b[0m\u001b[0;34m(\u001b[0m\u001b[0mtup1\u001b[0m\u001b[0;34m)\u001b[0m\u001b[0;34m\u001b[0m\u001b[0;34m\u001b[0m\u001b[0m\n\u001b[1;32m      3\u001b[0m \u001b[0;32mdel\u001b[0m \u001b[0mtup1\u001b[0m\u001b[0;34m\u001b[0m\u001b[0;34m\u001b[0m\u001b[0m\n\u001b[0;32m----> 4\u001b[0;31m \u001b[0mprint\u001b[0m\u001b[0;34m(\u001b[0m\u001b[0mtup1\u001b[0m\u001b[0;34m)\u001b[0m\u001b[0;34m\u001b[0m\u001b[0;34m\u001b[0m\u001b[0m\n\u001b[0m",
      "\u001b[0;31mNameError\u001b[0m: name 'tup1' is not defined"
     ]
    }
   ],
   "source": [
    "tup1 = ('physic','chemistry',1997,2000)\n",
    "print(tup1)\n",
    "del tup1\n",
    "print(tup1)"
   ]
  },
  {
   "cell_type": "code",
   "execution_count": 22,
   "metadata": {},
   "outputs": [
    {
     "name": "stdout",
     "output_type": "stream",
     "text": [
      "Welcome\n",
      "abc\n",
      "('tes', 'abc', 'dec')\n"
     ]
    }
   ],
   "source": [
    "# Indexing, Slicing, and Matixes:\n",
    "L = ('spam','Python','Welcome','tes','abc','dec')\n",
    "print(L[2])\n",
    "print(L[-2])\n",
    "print(L[3:])\n",
    "\n"
   ]
  },
  {
   "cell_type": "markdown",
   "metadata": {},
   "source": [
    "- __Python Tuple Build in Methods__\n",
    "    - Len()\n",
    "    - Max() - Min()\n",
    "    - List() - Tuple()"
   ]
  },
  {
   "cell_type": "code",
   "execution_count": 29,
   "metadata": {},
   "outputs": [
    {
     "name": "stdout",
     "output_type": "stream",
     "text": [
      "3\n",
      "90\n",
      "9\n",
      "('spam', 'Python', 'Welcome')\n",
      "(12, 24, 90, 34, 56, 9)\n",
      "['spam', 'Python', 'Welcome']\n",
      "['spam', 'Python', 'Welcome']\n"
     ]
    }
   ],
   "source": [
    "L = ('spam','Python','Welcome')\n",
    "print(len(L))\n",
    "\n",
    "Val = (12,24,90,34,56,9)\n",
    "print(max(Val))\n",
    "print(min(Val))\n",
    "\n",
    "print(L)\n",
    "print(Val)\n",
    "print(list(L))\n",
    "\n",
    "d = list(L)\n",
    "print(d)\n"
   ]
  },
  {
   "cell_type": "markdown",
   "metadata": {},
   "source": [
    "#### Pyhton Dictionary\n",
    "- __Dictionary:__\n",
    "    - A dictionary is mutable and is nother container type that can store any number of Python objects, icluding other container types.\n",
    "    - Dictionries consist of pairs (called items) of keys and their corresponding values.\n",
    "    - Python dictionries are also known as associative arrays or hash tables.\n",
    "    - Each key is separated from its value by a colon (:), the items are separated by commas, and the whole thing is enclosed in curly braces. An empty dictionary without any items is written with just two curly braces, like this: {}\n"
   ]
  },
  {
   "cell_type": "code",
   "execution_count": 33,
   "metadata": {},
   "outputs": [
    {
     "data": {
      "text/plain": [
       "'2341'"
      ]
     },
     "execution_count": 33,
     "metadata": {},
     "output_type": "execute_result"
    }
   ],
   "source": [
    "dict = {'alice':'2341','beth':'9123','cecil':'3251'}\n",
    "dict"
   ]
  },
  {
   "cell_type": "markdown",
   "metadata": {},
   "source": [
    "- __Accessing Values in Dictionary:__\n",
    "    - To access dictionary elements, you can use the familiar square brackets along with the key to obtain its value. Following is a simple example:\n",
    "    "
   ]
  },
  {
   "cell_type": "code",
   "execution_count": 34,
   "metadata": {},
   "outputs": [
    {
     "name": "stdout",
     "output_type": "stream",
     "text": [
      "dict[Name]:  zara\n",
      "dict[Age]:  7\n"
     ]
    }
   ],
   "source": [
    "Dict = {'Name':'zara','Age':7,'Class':'First'}\n",
    "print(\"dict[Name]: \",Dict['Name'])\n",
    "print(\"dict[Age]: \",Dict['Age'])"
   ]
  },
  {
   "cell_type": "markdown",
   "metadata": {},
   "source": [
    "- __Updating Dictionary:__\n",
    "    - You can update a dictionary by adding a new entry or item (i.e., a key-value pair), modifying and existing entry, or deleting an existing entry"
   ]
  },
  {
   "cell_type": "code",
   "execution_count": 35,
   "metadata": {},
   "outputs": [
    {
     "data": {
      "text/plain": [
       "{'Name': 'zara', 'Age': 8, 'Class': 'First', 'School': 'DPS School'}"
      ]
     },
     "execution_count": 35,
     "metadata": {},
     "output_type": "execute_result"
    }
   ],
   "source": [
    "x = {'Name':'zara','Age':7,'Class':'First'}\n",
    "x['Age'] = 8\n",
    "x['School'] = \"DPS School\"\n",
    "x"
   ]
  },
  {
   "cell_type": "markdown",
   "metadata": {},
   "source": [
    "- __Delete Dictionary Elements:__\n",
    "    - You can either remove individual dictionary elements or clear the entire contents of a dictionary. You can also delete entire dictionary in a single operation.\n",
    "    - To explicitly remove an entire dictionary, just use the del statement."
   ]
  },
  {
   "cell_type": "code",
   "execution_count": 38,
   "metadata": {},
   "outputs": [
    {
     "name": "stdout",
     "output_type": "stream",
     "text": [
      "{'Age': 8, 'Class': 'First', 'School': 'DPS School'}\n",
      "remove all entries {}\n"
     ]
    },
    {
     "ename": "NameError",
     "evalue": "name 'd' is not defined",
     "output_type": "error",
     "traceback": [
      "\u001b[0;31m---------------------------------------------------------------------------\u001b[0m",
      "\u001b[0;31mNameError\u001b[0m                                 Traceback (most recent call last)",
      "\u001b[0;32m/tmp/ipykernel_14436/1986749485.py\u001b[0m in \u001b[0;36m<module>\u001b[0;34m\u001b[0m\n\u001b[1;32m      5\u001b[0m \u001b[0mprint\u001b[0m\u001b[0;34m(\u001b[0m\u001b[0;34m\"remove all entries\"\u001b[0m\u001b[0;34m,\u001b[0m\u001b[0md\u001b[0m\u001b[0;34m)\u001b[0m\u001b[0;34m\u001b[0m\u001b[0;34m\u001b[0m\u001b[0m\n\u001b[1;32m      6\u001b[0m \u001b[0;32mdel\u001b[0m \u001b[0md\u001b[0m \u001b[0;31m# delete entire dictionary\u001b[0m\u001b[0;34m\u001b[0m\u001b[0;34m\u001b[0m\u001b[0m\n\u001b[0;32m----> 7\u001b[0;31m \u001b[0mprint\u001b[0m\u001b[0;34m(\u001b[0m\u001b[0;34m\"deleted dictionary\"\u001b[0m\u001b[0;34m,\u001b[0m\u001b[0md\u001b[0m\u001b[0;34m)\u001b[0m\u001b[0;34m\u001b[0m\u001b[0;34m\u001b[0m\u001b[0m\n\u001b[0m",
      "\u001b[0;31mNameError\u001b[0m: name 'd' is not defined"
     ]
    }
   ],
   "source": [
    "d = {'Name': 'zara', 'Age': 8, 'Class': 'First', 'School': 'DPS School'}\n",
    "del d['Name'] # remove entry with key 'Name'\n",
    "print(d)\n",
    "d.clear() # remove all entries in dict\n",
    "print(\"remove all entries\",d)\n",
    "del d # delete entire dictionary\n",
    "print(\"deleted dictionary\",d)\n"
   ]
  },
  {
   "cell_type": "markdown",
   "metadata": {},
   "source": [
    "- __Properties of Dictionary Keys:__\n",
    "    - Dictionery values have no restrictions. The Can be any arbitrary Phyton Object, either standard objects or user-defined objects. However, same is not true for the keys.\n",
    "    - More than one entry per key not allowed. Which means no duplicate key is allowed. When duplicate keys encountered during assignment, the last assignment wins."
   ]
  },
  {
   "cell_type": "code",
   "execution_count": 41,
   "metadata": {},
   "outputs": [
    {
     "name": "stdout",
     "output_type": "stream",
     "text": [
      "dic['Name']: Manni\n"
     ]
    }
   ],
   "source": [
    "dic = {'Name': 'zara', 'Age': 8, 'Class': 'First', 'Name': 'Manni'}\n",
    "print(\"dic['Name']:\", dic['Name'])"
   ]
  },
  {
   "cell_type": "markdown",
   "metadata": {},
   "source": [
    "- Keys must be immutable. Which means you can use stringsm numbers or tuples as dictionary keys but someting like ['key'] is not allowed."
   ]
  },
  {
   "cell_type": "code",
   "execution_count": 42,
   "metadata": {},
   "outputs": [
    {
     "ename": "TypeError",
     "evalue": "unhashable type: 'list'",
     "output_type": "error",
     "traceback": [
      "\u001b[0;31m---------------------------------------------------------------------------\u001b[0m",
      "\u001b[0;31mTypeError\u001b[0m                                 Traceback (most recent call last)",
      "\u001b[0;32m/tmp/ipykernel_14436/3700473576.py\u001b[0m in \u001b[0;36m<module>\u001b[0;34m\u001b[0m\n\u001b[0;32m----> 1\u001b[0;31m \u001b[0mdic\u001b[0m \u001b[0;34m=\u001b[0m \u001b[0;34m{\u001b[0m\u001b[0;34m[\u001b[0m\u001b[0;34m'Name'\u001b[0m\u001b[0;34m]\u001b[0m\u001b[0;34m:\u001b[0m \u001b[0;34m'zara'\u001b[0m\u001b[0;34m,\u001b[0m \u001b[0;34m'Age'\u001b[0m\u001b[0;34m:\u001b[0m \u001b[0;36m8\u001b[0m\u001b[0;34m,\u001b[0m \u001b[0;34m'Class'\u001b[0m\u001b[0;34m:\u001b[0m \u001b[0;34m'First'\u001b[0m\u001b[0;34m,\u001b[0m \u001b[0;34m'Name'\u001b[0m\u001b[0;34m:\u001b[0m \u001b[0;34m'Manni'\u001b[0m\u001b[0;34m}\u001b[0m\u001b[0;34m\u001b[0m\u001b[0;34m\u001b[0m\u001b[0m\n\u001b[0m",
      "\u001b[0;31mTypeError\u001b[0m: unhashable type: 'list'"
     ]
    }
   ],
   "source": [
    "dic = {['Name']: 'zara', 'Age': 8, 'Class': 'First', 'Name': 'Manni'}"
   ]
  },
  {
   "cell_type": "code",
   "execution_count": null,
   "metadata": {},
   "outputs": [],
   "source": []
  }
 ],
 "metadata": {
  "interpreter": {
   "hash": "8e0d0260e1f3d0b9823b804dc5934a8bd3512d2d0af3147365a0766f6dd8bfcd"
  },
  "kernelspec": {
   "display_name": "Python 3.9.7 ('base')",
   "language": "python",
   "name": "python3"
  },
  "language_info": {
   "codemirror_mode": {
    "name": "ipython",
    "version": 3
   },
   "file_extension": ".py",
   "mimetype": "text/x-python",
   "name": "python",
   "nbconvert_exporter": "python",
   "pygments_lexer": "ipython3",
   "version": "3.9.7"
  },
  "orig_nbformat": 4
 },
 "nbformat": 4,
 "nbformat_minor": 2
}
