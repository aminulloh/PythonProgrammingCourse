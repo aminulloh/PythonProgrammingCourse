{
 "cells": [
  {
   "cell_type": "markdown",
   "metadata": {},
   "source": [
    "# Python Programming Full Course (Basics,OOP,MOdules,PyQt)"
   ]
  },
  {
   "cell_type": "markdown",
   "metadata": {},
   "source": [
    "- __What is Programming?__<br />\n",
    "    The process of developing and implementing variouse sets of instructions to envable a computer to do a certain task. These instructions are considered computer programs and help the computer to operate smoothly\n",
    "- __Two Types of Programming Languages__\n",
    "    - Low Level Languages\n",
    "        - The language of the computer\n",
    "        - It consists of 1,0\n",
    "        - It is easy to be Executed\n",
    "        - It is hard to programe\n",
    "        - Can run only of one kind of computer and have to be rewritten to another\n",
    "        - Like C, Assembly\n",
    "    - High Level Languages\n",
    "        - Easy to programe\n",
    "        - Takes less time to be coded\n",
    "        - Easy to be corrected\n",
    "        - Portable (only one programe can run on any pc)\n",
    "        - Like jave, c# & python\n",
    "- __Why Python__\n",
    "    - Easy to programe & easy to read\n",
    "    - Open source\n",
    "    - Play with other languages and easily extendible\n",
    "    - Cross Platform\n",
    "    - Fast\n",
    "    - Can use python for all fields\n",
    "    - Many Platforms\n",
    "#### Interpreter VS Compiler\n",
    "- __Overview:__\n",
    "    - The high level languages need to be Executed on the pc\n",
    "    - But computer understand only 1,0\n",
    "    - We need to transform the high level code to low level code so that computer can understand it\n",
    "- __Interpreter__\n",
    "    - The interpreter will transform the code from the first to the las word by word\n",
    "    - If interpreter find one error it will sto working raising this error\n",
    "    - Like Python\n",
    "- __Compiler__\n",
    "    - The compiler will transform the whole code\n",
    "    - If the compiler found any error it will continue and when it finish it will raise all the errors\n",
    "    - Like C#\n",
    "#### Python Variables\n",
    "- __What is a variable?__\n",
    "    - Variable: is a name that refers to a value\n",
    "    - Variable = variable name + variable value\n",
    "    - You can declare any value\n",
    "    - There is conditions to declare name !\n",
    "- __Conditions of declare a name__\n",
    "    - Can contain both letters and numbers\n",
    "    - Have to begin with letters\n",
    "    - You can use underscore character\n",
    "    - You can use uppercase letters\n",
    "    - Python are case sensitive\n",
    "- __Reserved Words:__\n",
    "    <img src=\"./img/Reserved Words.png\"/>\n",
    "- __Assigning Value to Variables__\n",
    "    - Single assignment:\n",
    "        - ex: x = 5\n",
    "        - ex: s = \"Welcome\"\n",
    "    - Multi assignment:\n",
    "        - ex: x,y = 5,3\n",
    "        - ex: a=b=c 1\n",
    "- __Variable Types__\n",
    "    1. __Int:__ is a whole number, positive or negative, without decimals, of unlimited length.<br /> Example. Integers: x = 1 y = 35656222554887711 z = -3255522\n",
    "    2. __String:__ ontaining all ASCII characters that are considered whitespace. This includes the characters space, tab, linefeed, return, formfeed, ...\n",
    "    3. __Float:__ Float is used to represent real numbers and is written with a decimal point dividing the integer and fractional parts. For example, 97.98, 32.3+e18, -32.54e100 all are floating point numbers.\n",
    "    4. __Bool:__ represent one of two values: True or False\n",
    "    5. __List:__ Lists are used to store multiple items in a single variable. ex:\n",
    "        ```thislist = [\"apple\", \"banana\", \"cherry\"]```\n",
    "    6. __Dictionary:__\n",
    "        - Dictionaries are used to store data values in key: value pairs.\n",
    "        - A dictionary is a collection which is ordered*, changeable and do not allow duplicates.\n",
    "        ```python\n",
    "        thisdict = {\n",
    "        \"brand\": \"Ford\",\n",
    "        \"model\": \"Mustang\",\n",
    "        \"year\": 1964\n",
    "        ```\n",
    "    7. __Tuple:__\n",
    "        - Tuples are used to store multiple items in a single variable.\n",
    "        - A tuple is a collection which is ordered and unchangeable.\n",
    "        - Tuples are written with round brackets\n",
    "        ```python\n",
    "        thistuple = (\"apple\", \"banana\", \"cherry\")\n",
    "        ```\n",
    "- __Type Method:__\n",
    "    - You can use the type() method to know the type of the variable, ex:\n",
    "    ```python\n",
    "    x = 5\n",
    "    s = 'welcome'\n",
    "    type(x) => Class 'int'\n",
    "    type(s) => Class 'str'\n",
    "\n",
    "    ```"
   ]
  },
  {
   "cell_type": "markdown",
   "metadata": {},
   "source": [
    "#### Python Operator\n",
    "- __There are 3 types of operators__\n",
    "    - Arithmatic Operator\n",
    "    - Comparison Operator\n",
    "    - Assignment Operator\n",
    "- __Arithmatic Operator__<br />\n",
    "<img src=\"./img/Aritmatic Operator.png\">\n",
    "\n",
    "- __Comparison Operator__<br />\n",
    "<img src=\"./img/ComparisonOperators.png\">\n",
    "\n",
    "- __Assignment Operator__<br />\n",
    "<img src=\"./img/AssignmentOperators.png\">"
   ]
  },
  {
   "cell_type": "markdown",
   "metadata": {},
   "source": [
    "#### Python Loops\n",
    "- __Loop Types:__\n",
    "    - While Loop \n",
    "        - Repeats a statement or group of statements while a given condition is true. It tests the condition before executing the loop body.\n",
    "        - \n",
    "    - Infinite Loop\n",
    "        - \n",
    "    - For Loop\n",
    "        - The for loop iterates over the elements of a collection\n",
    "    - Nested Loop\n",
    "        - One loop inside other loop\n",
    "- __For vs While:__\n",
    "    - For loop\n",
    "        - you should use the for loop when the number of iteration is known\n",
    "        - The loop iterates over the elements of a collection\n",
    "        - The loop iterates over a range of values which is known in advance at execution\n",
    "    - While loop\n",
    "        - The while statement simply loops until a condition is False\n",
    "        - The while loop is the more general one because its loop condition is more flexible and can be more complicated than that of a for\n",
    "        - The while loop can take every boolean expression as condition\n",
    "- __Control Statements:__\n",
    "    - Break\n",
    "        - The break statement in Python terminates the current loop and resumes execution at the next statement\n",
    "        - The most common use for break is when some external condition is triggered requiring a hasty exit from a loop\n",
    "        - The break statement can be used in both while and for loops\n",
    "    - Continue\n",
    "        - The continue statement in Python returns the control to the beginning of the while loop\n",
    "        - The continue statement rejects all the remaining statement in the current iteration of the loop and moves the control back the the top of the loop\n",
    "    - Pass\n",
    "        - The pass statement in Python is used when a statement is required syntactically but you do not want any command or code to execute\n",
    "        - The pass statement is a null operation; nothing happens when it executes\n",
    "        - The pass is also useful in places where your code will eventually go, but has not been written yet.\n"
   ]
  },
  {
   "cell_type": "markdown",
   "metadata": {},
   "source": [
    "#### Python Condition\n",
    "- __Condition in Python__<br />\n",
    "    A Decision is when a program has more than one choice of actions depending on a variable's value. Think of a traffic light. When it is green, we continue our drive. When we see the light turn yellow, we reduce our speed, and when it is red, we stop. These are logical decisions that depend on the value of the traffic light. Luckily, Python has a decision statement to help us when our application needs to make such decision for the user."
   ]
  },
  {
   "cell_type": "markdown",
   "metadata": {},
   "source": [
    "#### Python Function\n",
    "- __What is Function:__\n",
    "    - A function is a block of organized, reusable code that is used to perform a single, related action.\n",
    "    - Function provide better modularity for your application and a high degree of code reusing\n",
    "    - Pyhton gives you many built-in functions like print()\n",
    "    - You can also create your own functions. These functions are called user-definded functions\n",
    "- __How to Define a Function?__\n",
    "    - Function blocks begin with the keyword __def__ followed by the function name and parentheses()\n",
    "    - Any input parameters or arguments should be placed within these parentheses. You can also define parameters inside these parentheses\n",
    "    - The first statement of a function can be an optional statement - the documentation string of the function or docstring.\n",
    "    - The code block within every function start with a colod(:) and is indented.\n",
    "    - The statement return [expression] exits a fuction, optionally passing bck an expression to the caller. A return statement with no arguments is the same as return None.\n",
    "- __Calling a Function__\n",
    "    - Defining a function only gives it a name, specifies the parameters that are to be included in the function and structures the blocks of code.\n",
    "    - Once the basic structure of a function is finalized, you can execute it by calling it from another function or directly from the python prompt. Following is the example to call printme() function.\n",
    "- __Python Function Arguments__\n",
    "    - you can call a function by using the following types of formal arguments:\n",
    "        - __Required arguments:__ are the arguments passed to a function in correct positional order. Here, the number of arguments int the function call should match exactly with the function definition here\n",
    "        - __Keyword arguments__\n",
    "            - Keyword arguments are related to the function calls. When you use keyword arguments a function call, the caller identifies the arguments by the parameter name.\n",
    "            - This allows you to skip arguments or place them out of order because the python interpreter is able to use the keywords provided to match the values with parameters. you can also make keyword calls to the printme() fucntion.\n",
    "        - __Default arguments__\n",
    "            - A default argument is an argument that assumes a default value if a value is not provided in the function call for that argument.\n",
    "        - __Variable-length argument__\n",
    "            - You may need to preocess a function for more arguments than you specified while defining the function. These arguments are called variable-lengtharguments and are not named in the function definition, unlike required and default arguments.\n",
    "- __What is Anonymous Function__\n",
    "    - These function are called anonymous because they are not declared in the standard manner by using the def keyword. You can use the lambda keyword to create small anonymous function.\n",
    "    - Lambda forms can take any number of arguments but return just one value in the form of a expression. They cannot contain commands or multiple expressions.\n",
    "    - An anonymous function cannot be a direct call to print because lambda requires an expression\n",
    "    - Lambda functions have their own local namespace and cannot access variables other than those in their parameter list and those in the global namespace\n",
    "- __Return Statement__\n",
    "    - The statement return [expression] exits a function, optionally passing back an expression to the caller. A return statement with no arguments is the same as return None\n",
    "    \n"
   ]
  },
  {
   "cell_type": "markdown",
   "metadata": {},
   "source": [
    "#### Python Strings\n",
    "- __String ..?__\n",
    "    - Strings are amongst the most popular types in Python. We can crete them simply by enclosing characters in quotes. Python treats single quotes the same as double quotes\n",
    "    - Creating strings is s simple as assigning a value to a variable\n",
    "- __Accessing Values in Strings:__\n",
    "    - Python does not support a character type; these are treated as strings of length one, thus also considered a substring.\n",
    "    - To access substrings, use the square brackets for slicing along with the index or indices to obtain your substring.\n",
    "- __String Formatting Operator:__\n",
    "    - One of Python's coolest features is the string format operator %\n",
    "- __Raw String:__\n",
    "    - Raw strings don't treat the backslash as a special character t all. Every character you put into a raw string stays the way you wrote it.\n",
    "- __Python String Methods:__\n",
    "    - Capitalize() -> Caapitalizes first letter of string\n",
    "    - Lower() -> Converts all uppercase letters in string to lowercase\n",
    "    - Upper() -> Converts lowercase letters in string to uppercase\n",
    "    - isspace() -> Returns true if string contains only whitespace characters and false otherwise\n",
    "    - islower() -> Returns true is string has at least 1 cased charcter and ll cased characters re i lowercase nd false otherwise\n",
    "    - Isupper() -> Return true if string has at least one cased character and all cased character are in uppercase and false otherwise\n"
   ]
  },
  {
   "cell_type": "markdown",
   "metadata": {},
   "source": [
    "#### Python List\n",
    "- __List ..?__\n",
    "    - The most basic data structure in python is the sequence. Each element of a sequence is assigned a number - its position or index. The first index is zero, the second index one, and so forth\n",
    "    - Creating a list is as simple as putting different comma-separated values between squere brackets.\n",
    "- __Acessing Values in Lists:__\n",
    "    - To access values in lists, use the square brackets for slicing along with the index or indices to obtain value available at that index"
   ]
  },
  {
   "cell_type": "code",
   "execution_count": 1,
   "metadata": {},
   "outputs": [
    {
     "name": "stdout",
     "output_type": "stream",
     "text": [
      "list1[0]:  physic\n",
      "list1[3]:  2000\n"
     ]
    }
   ],
   "source": [
    "list1 = ['physic','chemistry',1997,2000]\n",
    "print(\"list1[0]: \", list1[0])\n",
    "print(\"list1[3]: \", list1[3])"
   ]
  },
  {
   "cell_type": "markdown",
   "metadata": {},
   "source": [
    "- __Updating Lists:__\n",
    "    - You can update single or multiple elements of ists by giving the slice on the left-hand side of the assignment operator, and you can add to elements in a list with the append() method."
   ]
  },
  {
   "cell_type": "code",
   "execution_count": 2,
   "metadata": {},
   "outputs": [
    {
     "name": "stdout",
     "output_type": "stream",
     "text": [
      "2001\n"
     ]
    }
   ],
   "source": [
    "list1 = ['physic','chemistry',1997,2000]\n",
    "list1[2] = 2001;\n",
    "print(list1[2])"
   ]
  },
  {
   "cell_type": "markdown",
   "metadata": {},
   "source": [
    "- __Delete List Elements:__\n",
    "    - To remove a list element, you can use either the del statement if you know exactly ehich element(s) you are deleting or the remove() method if you do not know."
   ]
  },
  {
   "cell_type": "code",
   "execution_count": 3,
   "metadata": {},
   "outputs": [
    {
     "name": "stdout",
     "output_type": "stream",
     "text": [
      "['physic', 'chemistry', 1997, 2000]\n",
      "['physic', 'chemistry', 2000]\n"
     ]
    }
   ],
   "source": [
    "list1 = ['physic','chemistry',1997,2000]\n",
    "print(list1)\n",
    "del list1[2]\n",
    "print(list1)"
   ]
  },
  {
   "cell_type": "markdown",
   "metadata": {},
   "source": [
    "- __Len()__\n",
    "    - Gives the total lengt of the list."
   ]
  },
  {
   "cell_type": "code",
   "execution_count": 4,
   "metadata": {},
   "outputs": [
    {
     "name": "stdout",
     "output_type": "stream",
     "text": [
      "4\n"
     ]
    }
   ],
   "source": [
    "list1 = ['physic','chemistry',1997,2000]\n",
    "print(len(list1))"
   ]
  },
  {
   "cell_type": "markdown",
   "metadata": {},
   "source": [
    "- __Index()__\n",
    "    - Method to returns the position at the first occurence of the specified value."
   ]
  },
  {
   "cell_type": "code",
   "execution_count": 5,
   "metadata": {},
   "outputs": [
    {
     "name": "stdout",
     "output_type": "stream",
     "text": [
      "0\n"
     ]
    }
   ],
   "source": [
    "list1 = ['physic','chemistry',1997,2000]\n",
    "print(list1.index('physic'))"
   ]
  },
  {
   "cell_type": "markdown",
   "metadata": {},
   "source": [
    "- __Insert()__\n",
    "    - Method inserts the specified value at the specified position."
   ]
  },
  {
   "cell_type": "code",
   "execution_count": 6,
   "metadata": {},
   "outputs": [
    {
     "name": "stdout",
     "output_type": "stream",
     "text": [
      "['physic', 'math', 'chemistry', 1997, 2000]\n"
     ]
    }
   ],
   "source": [
    "list1 = ['physic','chemistry',1997,2000]\n",
    "list1.insert(1,'math')\n",
    "print(list1)"
   ]
  },
  {
   "cell_type": "markdown",
   "metadata": {},
   "source": [
    "- __Apend()__\n",
    "    - method appends an element to the end of the list"
   ]
  },
  {
   "cell_type": "code",
   "execution_count": 7,
   "metadata": {},
   "outputs": [
    {
     "name": "stdout",
     "output_type": "stream",
     "text": [
      "['physic', 'chemistry', 1997, 2000, 'data structures']\n"
     ]
    }
   ],
   "source": [
    "list1 = ['physic','chemistry',1997,2000]\n",
    "list1.append('data structures')\n",
    "print(list1)"
   ]
  },
  {
   "cell_type": "markdown",
   "metadata": {},
   "source": [
    "- __Count()__\n",
    "    - Method returns the number of elements with the specified value"
   ]
  },
  {
   "cell_type": "code",
   "execution_count": 8,
   "metadata": {},
   "outputs": [
    {
     "name": "stdout",
     "output_type": "stream",
     "text": [
      "total chemistry:  2\n",
      "total physic:  1\n"
     ]
    }
   ],
   "source": [
    "list1 = ['physic','chemistry',1997,2000,'chemistry']\n",
    "print(\"total chemistry: \",list1.count('chemistry'))\n",
    "print(\"total physic: \",list1.count('physic'))\n"
   ]
  },
  {
   "cell_type": "markdown",
   "metadata": {},
   "source": [
    "- __Pop()__\n",
    "    - Method removes the item at the given index rom the list and returns the removed item."
   ]
  },
  {
   "cell_type": "code",
   "execution_count": 10,
   "metadata": {},
   "outputs": [
    {
     "name": "stdout",
     "output_type": "stream",
     "text": [
      "chemistry\n",
      "['physic', 'chemistry', 1997, 2000]\n"
     ]
    }
   ],
   "source": [
    "list1 = ['physic','chemistry',1997,2000,'chemistry']\n",
    "print(list1.pop())\n",
    "print(list1)"
   ]
  },
  {
   "cell_type": "markdown",
   "metadata": {},
   "source": [
    "- __Reverse()__\n",
    "    - Method reverses the sorting order of the elements"
   ]
  },
  {
   "cell_type": "code",
   "execution_count": 12,
   "metadata": {},
   "outputs": [
    {
     "name": "stdout",
     "output_type": "stream",
     "text": [
      "['chemistry', 2000, 1997, 'chemistry', 'physic']\n"
     ]
    }
   ],
   "source": [
    "list1 = ['physic','chemistry',1997,2000,'chemistry']\n",
    "list1.reverse()\n",
    "print(list1)"
   ]
  },
  {
   "cell_type": "markdown",
   "metadata": {},
   "source": [
    "- __Remove()__\n",
    "    - method takes a single element as an argument and removes it from the list."
   ]
  },
  {
   "cell_type": "code",
   "execution_count": 13,
   "metadata": {},
   "outputs": [
    {
     "name": "stdout",
     "output_type": "stream",
     "text": [
      "['physic', 'chemistry', 2000, 'chemistry']\n"
     ]
    }
   ],
   "source": [
    "list1 = ['physic','chemistry',1997,2000,'chemistry']\n",
    "list1.remove(1997)\n",
    "print(list1)"
   ]
  },
  {
   "cell_type": "markdown",
   "metadata": {},
   "source": [
    "#### Python Tuple\n",
    "- __Tuple ..?__\n",
    "    - A tuple is a sequence of immutable Python objects. Tuple are sequences, just like lists.\n",
    "    - The only difference is that tuples can't be changed. i.e. Tuples are immutable and tuples use parentheses and lists use square brackets.\n",
    "    - Creating a tuple is as simple as putting different comma-seperated values and optionally you can put these comma-separated values between parenteses alse"
   ]
  },
  {
   "cell_type": "code",
   "execution_count": 14,
   "metadata": {},
   "outputs": [],
   "source": [
    "tup1 = ('physic','chemistry',1997,2000)"
   ]
  },
  {
   "cell_type": "markdown",
   "metadata": {},
   "source": [
    "- __Accessing Values in Tuples:__\n",
    "    - To access values in tuple, use the square bracket for slicing along with the inces or indices to obtain value available at that index."
   ]
  },
  {
   "cell_type": "code",
   "execution_count": 15,
   "metadata": {},
   "outputs": [
    {
     "name": "stdout",
     "output_type": "stream",
     "text": [
      "tup1[0]:  physic\n",
      "tup1[3]:  2000\n"
     ]
    }
   ],
   "source": [
    "tup1 = ('physic','chemistry',1997,2000)\n",
    "print(\"tup1[0]: \", tup1[0])\n",
    "print(\"tup1[3]: \", tup1[3])"
   ]
  },
  {
   "cell_type": "markdown",
   "metadata": {},
   "source": [
    "- __Updating Tuples:__\n",
    "    - Tuples are immutable which means you cannot update them or change values of tuple elements. But we able to take portions of an existing tuples to create a new tuples as follow."
   ]
  },
  {
   "cell_type": "code",
   "execution_count": 16,
   "metadata": {},
   "outputs": [
    {
     "data": {
      "text/plain": [
       "(12, 34.56, 'abc', 'xyz')"
      ]
     },
     "execution_count": 16,
     "metadata": {},
     "output_type": "execute_result"
    }
   ],
   "source": [
    "tup1 = (12,34.56) ; tup2 = ('abc','xyz')\n",
    "tup3 = tup1 + tup2\n",
    "tup3"
   ]
  },
  {
   "cell_type": "markdown",
   "metadata": {},
   "source": [
    "- __Delete Tuple Elements:__\n",
    "    - Removing individual tuple elements is not possible. There is, of course, nothing wrong with putting together another tuple with the undesired elements discarded.\n",
    "    - To explicitly remove an entire tuple, just use the del statement."
   ]
  },
  {
   "cell_type": "code",
   "execution_count": 17,
   "metadata": {},
   "outputs": [
    {
     "name": "stdout",
     "output_type": "stream",
     "text": [
      "('physic', 'chemistry', 1997, 2000)\n"
     ]
    },
    {
     "ename": "NameError",
     "evalue": "name 'tup1' is not defined",
     "output_type": "error",
     "traceback": [
      "\u001b[0;31m---------------------------------------------------------------------------\u001b[0m",
      "\u001b[0;31mNameError\u001b[0m                                 Traceback (most recent call last)",
      "\u001b[0;32m/tmp/ipykernel_14436/3154347681.py\u001b[0m in \u001b[0;36m<module>\u001b[0;34m\u001b[0m\n\u001b[1;32m      2\u001b[0m \u001b[0mprint\u001b[0m\u001b[0;34m(\u001b[0m\u001b[0mtup1\u001b[0m\u001b[0;34m)\u001b[0m\u001b[0;34m\u001b[0m\u001b[0;34m\u001b[0m\u001b[0m\n\u001b[1;32m      3\u001b[0m \u001b[0;32mdel\u001b[0m \u001b[0mtup1\u001b[0m\u001b[0;34m\u001b[0m\u001b[0;34m\u001b[0m\u001b[0m\n\u001b[0;32m----> 4\u001b[0;31m \u001b[0mprint\u001b[0m\u001b[0;34m(\u001b[0m\u001b[0mtup1\u001b[0m\u001b[0;34m)\u001b[0m\u001b[0;34m\u001b[0m\u001b[0;34m\u001b[0m\u001b[0m\n\u001b[0m",
      "\u001b[0;31mNameError\u001b[0m: name 'tup1' is not defined"
     ]
    }
   ],
   "source": [
    "tup1 = ('physic','chemistry',1997,2000)\n",
    "print(tup1)\n",
    "del tup1\n",
    "print(tup1)"
   ]
  },
  {
   "cell_type": "code",
   "execution_count": 22,
   "metadata": {},
   "outputs": [
    {
     "name": "stdout",
     "output_type": "stream",
     "text": [
      "Welcome\n",
      "abc\n",
      "('tes', 'abc', 'dec')\n"
     ]
    }
   ],
   "source": [
    "# Indexing, Slicing, and Matixes:\n",
    "L = ('spam','Python','Welcome','tes','abc','dec')\n",
    "print(L[2])\n",
    "print(L[-2])\n",
    "print(L[3:])\n",
    "\n"
   ]
  },
  {
   "cell_type": "markdown",
   "metadata": {},
   "source": [
    "- __Python Tuple Build in Methods__\n",
    "    - Len()\n",
    "    - Max() - Min()\n",
    "    - List() - Tuple()"
   ]
  },
  {
   "cell_type": "code",
   "execution_count": 29,
   "metadata": {},
   "outputs": [
    {
     "name": "stdout",
     "output_type": "stream",
     "text": [
      "3\n",
      "90\n",
      "9\n",
      "('spam', 'Python', 'Welcome')\n",
      "(12, 24, 90, 34, 56, 9)\n",
      "['spam', 'Python', 'Welcome']\n",
      "['spam', 'Python', 'Welcome']\n"
     ]
    }
   ],
   "source": [
    "L = ('spam','Python','Welcome')\n",
    "print(len(L))\n",
    "\n",
    "Val = (12,24,90,34,56,9)\n",
    "print(max(Val))\n",
    "print(min(Val))\n",
    "\n",
    "print(L)\n",
    "print(Val)\n",
    "print(list(L))\n",
    "\n",
    "d = list(L)\n",
    "print(d)\n"
   ]
  },
  {
   "cell_type": "markdown",
   "metadata": {},
   "source": [
    "#### Pyhton Dictionary\n",
    "- __Dictionary:__\n",
    "    - A dictionary is mutable and is nother container type that can store any number of Python objects, icluding other container types.\n",
    "    - Dictionries consist of pairs (called items) of keys and their corresponding values.\n",
    "    - Python dictionries are also known as associative arrays or hash tables.\n",
    "    - Each key is separated from its value by a colon (:), the items are separated by commas, and the whole thing is enclosed in curly braces. An empty dictionary without any items is written with just two curly braces, like this: {}\n"
   ]
  },
  {
   "cell_type": "code",
   "execution_count": 33,
   "metadata": {},
   "outputs": [
    {
     "data": {
      "text/plain": [
       "'2341'"
      ]
     },
     "execution_count": 33,
     "metadata": {},
     "output_type": "execute_result"
    }
   ],
   "source": [
    "dict = {'alice':'2341','beth':'9123','cecil':'3251'}\n",
    "dict"
   ]
  },
  {
   "cell_type": "markdown",
   "metadata": {},
   "source": [
    "- __Accessing Values in Dictionary:__\n",
    "    - To access dictionary elements, you can use the familiar square brackets along with the key to obtain its value. Following is a simple example:\n",
    "    "
   ]
  },
  {
   "cell_type": "code",
   "execution_count": 34,
   "metadata": {},
   "outputs": [
    {
     "name": "stdout",
     "output_type": "stream",
     "text": [
      "dict[Name]:  zara\n",
      "dict[Age]:  7\n"
     ]
    }
   ],
   "source": [
    "Dict = {'Name':'zara','Age':7,'Class':'First'}\n",
    "print(\"dict[Name]: \",Dict['Name'])\n",
    "print(\"dict[Age]: \",Dict['Age'])"
   ]
  },
  {
   "cell_type": "markdown",
   "metadata": {},
   "source": [
    "- __Updating Dictionary:__\n",
    "    - You can update a dictionary by adding a new entry or item (i.e., a key-value pair), modifying and existing entry, or deleting an existing entry"
   ]
  },
  {
   "cell_type": "code",
   "execution_count": 35,
   "metadata": {},
   "outputs": [
    {
     "data": {
      "text/plain": [
       "{'Name': 'zara', 'Age': 8, 'Class': 'First', 'School': 'DPS School'}"
      ]
     },
     "execution_count": 35,
     "metadata": {},
     "output_type": "execute_result"
    }
   ],
   "source": [
    "x = {'Name':'zara','Age':7,'Class':'First'}\n",
    "x['Age'] = 8\n",
    "x['School'] = \"DPS School\"\n",
    "x"
   ]
  },
  {
   "cell_type": "markdown",
   "metadata": {},
   "source": [
    "- __Delete Dictionary Elements:__\n",
    "    - You can either remove individual dictionary elements or clear the entire contents of a dictionary. You can also delete entire dictionary in a single operation.\n",
    "    - To explicitly remove an entire dictionary, just use the del statement."
   ]
  },
  {
   "cell_type": "code",
   "execution_count": 38,
   "metadata": {},
   "outputs": [
    {
     "name": "stdout",
     "output_type": "stream",
     "text": [
      "{'Age': 8, 'Class': 'First', 'School': 'DPS School'}\n",
      "remove all entries {}\n"
     ]
    },
    {
     "ename": "NameError",
     "evalue": "name 'd' is not defined",
     "output_type": "error",
     "traceback": [
      "\u001b[0;31m---------------------------------------------------------------------------\u001b[0m",
      "\u001b[0;31mNameError\u001b[0m                                 Traceback (most recent call last)",
      "\u001b[0;32m/tmp/ipykernel_14436/1986749485.py\u001b[0m in \u001b[0;36m<module>\u001b[0;34m\u001b[0m\n\u001b[1;32m      5\u001b[0m \u001b[0mprint\u001b[0m\u001b[0;34m(\u001b[0m\u001b[0;34m\"remove all entries\"\u001b[0m\u001b[0;34m,\u001b[0m\u001b[0md\u001b[0m\u001b[0;34m)\u001b[0m\u001b[0;34m\u001b[0m\u001b[0;34m\u001b[0m\u001b[0m\n\u001b[1;32m      6\u001b[0m \u001b[0;32mdel\u001b[0m \u001b[0md\u001b[0m \u001b[0;31m# delete entire dictionary\u001b[0m\u001b[0;34m\u001b[0m\u001b[0;34m\u001b[0m\u001b[0m\n\u001b[0;32m----> 7\u001b[0;31m \u001b[0mprint\u001b[0m\u001b[0;34m(\u001b[0m\u001b[0;34m\"deleted dictionary\"\u001b[0m\u001b[0;34m,\u001b[0m\u001b[0md\u001b[0m\u001b[0;34m)\u001b[0m\u001b[0;34m\u001b[0m\u001b[0;34m\u001b[0m\u001b[0m\n\u001b[0m",
      "\u001b[0;31mNameError\u001b[0m: name 'd' is not defined"
     ]
    }
   ],
   "source": [
    "d = {'Name': 'zara', 'Age': 8, 'Class': 'First', 'School': 'DPS School'}\n",
    "del d['Name'] # remove entry with key 'Name'\n",
    "print(d)\n",
    "d.clear() # remove all entries in dict\n",
    "print(\"remove all entries\",d)\n",
    "del d # delete entire dictionary\n",
    "print(\"deleted dictionary\",d)\n"
   ]
  },
  {
   "cell_type": "markdown",
   "metadata": {},
   "source": [
    "- __Properties of Dictionary Keys:__\n",
    "    - Dictionery values have no restrictions. The Can be any arbitrary Phyton Object, either standard objects or user-defined objects. However, same is not true for the keys.\n",
    "    - More than one entry per key not allowed. Which means no duplicate key is allowed. When duplicate keys encountered during assignment, the last assignment wins."
   ]
  },
  {
   "cell_type": "code",
   "execution_count": 41,
   "metadata": {},
   "outputs": [
    {
     "name": "stdout",
     "output_type": "stream",
     "text": [
      "dic['Name']: Manni\n"
     ]
    }
   ],
   "source": [
    "dic = {'Name': 'zara', 'Age': 8, 'Class': 'First', 'Name': 'Manni'}\n",
    "print(\"dic['Name']:\", dic['Name'])"
   ]
  },
  {
   "cell_type": "markdown",
   "metadata": {},
   "source": [
    "- Keys must be immutable. Which means you can use stringsm numbers or tuples as dictionary keys but someting like ['key'] is not allowed."
   ]
  },
  {
   "cell_type": "code",
   "execution_count": 42,
   "metadata": {},
   "outputs": [
    {
     "ename": "TypeError",
     "evalue": "unhashable type: 'list'",
     "output_type": "error",
     "traceback": [
      "\u001b[0;31m---------------------------------------------------------------------------\u001b[0m",
      "\u001b[0;31mTypeError\u001b[0m                                 Traceback (most recent call last)",
      "\u001b[0;32m/tmp/ipykernel_14436/3700473576.py\u001b[0m in \u001b[0;36m<module>\u001b[0;34m\u001b[0m\n\u001b[0;32m----> 1\u001b[0;31m \u001b[0mdic\u001b[0m \u001b[0;34m=\u001b[0m \u001b[0;34m{\u001b[0m\u001b[0;34m[\u001b[0m\u001b[0;34m'Name'\u001b[0m\u001b[0;34m]\u001b[0m\u001b[0;34m:\u001b[0m \u001b[0;34m'zara'\u001b[0m\u001b[0;34m,\u001b[0m \u001b[0;34m'Age'\u001b[0m\u001b[0;34m:\u001b[0m \u001b[0;36m8\u001b[0m\u001b[0;34m,\u001b[0m \u001b[0;34m'Class'\u001b[0m\u001b[0;34m:\u001b[0m \u001b[0;34m'First'\u001b[0m\u001b[0;34m,\u001b[0m \u001b[0;34m'Name'\u001b[0m\u001b[0;34m:\u001b[0m \u001b[0;34m'Manni'\u001b[0m\u001b[0;34m}\u001b[0m\u001b[0;34m\u001b[0m\u001b[0;34m\u001b[0m\u001b[0m\n\u001b[0m",
      "\u001b[0;31mTypeError\u001b[0m: unhashable type: 'list'"
     ]
    }
   ],
   "source": [
    "dic = {['Name']: 'zara', 'Age': 8, 'Class': 'First', 'Name': 'Manni'}"
   ]
  },
  {
   "cell_type": "markdown",
   "metadata": {},
   "source": [
    "#### Python Build in Modules\n",
    "- __What is Module?__\n",
    "    - a module is a fule consisting of Python code. Grouping related code into a module makes the code easier to understand and use.\n",
    "    A module can define function, classes and variable. A module can also include runnable code.\n",
    "- __Locating Modules__\n",
    "    - When you import a module, the Python interpreter searches for the module in the following sequences:\n",
    "        - The current directory\n",
    "        If the module isn't found, Pyhton the searches each directory in the shell variable PYTHONPATH.\n",
    "        - If all else fails, Python checks the default path. On UNIX, this default path is normally /usr/local/lib/python/.\n",
    "- __Importing Modules__\n",
    "    - 3 Ways to import modules in python\n",
    "        - Import + __Module name__\n",
    "        - From __module name__ import ...\n",
    "        - From __module name__ import *"
   ]
  },
  {
   "cell_type": "markdown",
   "metadata": {},
   "source": [
    "- __OS Module__\n",
    "    - A Python Module (need to be imported)\n",
    "    - This module contain all the methods to deal with filenames, paths and directories\n",
    "    - All functions in this module raise OSError in the case of invalid or inaccessible file names and paths. \n",
    "- __Print to screen__\n",
    "    - The suplest way to produce output is using the print statement where you can pass zero or more expression sseparated by commas. This fuction converts the expression you pass into a strung and writes the result to standard output.\n",
    "    ``` print(\"assalamualaikum\")```\n",
    "- __Reading Keyboard Input:__\n",
    "    - You can use input methode to get input from user.\n",
    "    ```input('Enter your name: ') ```"
   ]
  },
  {
   "cell_type": "markdown",
   "metadata": {},
   "source": [
    "- __The open Function:__\n",
    "    - Before you can read or write a file, you have to open it using Python's built-in open() function. This function creates a file object, which would be utilized to call other support methods associated with it.\n",
    "- __Access Mode__\n",
    "    - R : Open a file for reading only\n",
    "    - R+ : Open a file for both reading and writing\n",
    "    - W : Open a file for writing only\n",
    "    - W+ : Open a file for both reading and writing\n",
    "- __The file object attributes:__\n",
    "    - Once a file is opened and you have one file object, you can get various information related to that file.\n",
    "    - Here is a list of all attributes related to file object:\n",
    "        - File.closed: Return true if file is closed, false otherwise.\n",
    "        - File.mode: Returns access mode with which file was opened.\n",
    "        - File.name: Return name of the file.\n",
    "- Example <br />"
   ]
  },
  {
   "cell_type": "code",
   "execution_count": 44,
   "metadata": {},
   "outputs": [
    {
     "name": "stdout",
     "output_type": "stream",
     "text": [
      "Name OF The File:  1.txt\n",
      "Closed or Not:  False\n",
      "Opening mode:  wb\n"
     ]
    }
   ],
   "source": [
    "import os\n",
    "file = open('1.txt','wb')\n",
    "print(\"Name OF The File: \", file.name) \n",
    "print('Closed or Not: ', file.closed) \n",
    "print('Opening mode: ', file.mode) "
   ]
  },
  {
   "cell_type": "markdown",
   "metadata": {},
   "source": [
    "- __The read() methos__\n",
    "    - The read() method reads a string fron an open file. It is important to note that Python strings can have binary data and not just text."
   ]
  },
  {
   "cell_type": "code",
   "execution_count": 45,
   "metadata": {},
   "outputs": [
    {
     "name": "stdout",
     "output_type": "stream",
     "text": [
      "assalamualaikum\n"
     ]
    }
   ],
   "source": [
    "file = open('2.txt','r+')\n",
    "words = file.read(15)\n",
    "print(words)"
   ]
  },
  {
   "cell_type": "markdown",
   "metadata": {},
   "source": [
    "- __File Positions__\n",
    "    - The tell() method tells you the corrent position within the file; in other words, the next read or write will occur at that many bytes from the beginning of the file.\n",
    "    "
   ]
  },
  {
   "cell_type": "code",
   "execution_count": 48,
   "metadata": {},
   "outputs": [
    {
     "name": "stdout",
     "output_type": "stream",
     "text": [
      "assalamualaikum\n",
      "15\n"
     ]
    }
   ],
   "source": [
    "file = open('2.txt','r+')\n",
    "words = file.read(15)\n",
    "print(words)\n",
    "\n",
    "position = file.tell()\n",
    "print(position)"
   ]
  },
  {
   "cell_type": "markdown",
   "metadata": {},
   "source": [
    "- __The write() Method__\n",
    "    - The write() method writes any string to an open file. It is important to note that Python strings can have ninary data and not just text."
   ]
  },
  {
   "cell_type": "code",
   "execution_count": 49,
   "metadata": {},
   "outputs": [],
   "source": [
    "file = open('3.txt','w') #great new if file not exist\n",
    "file.write(\"Python is amazing programming language.\")\n",
    "file.close()"
   ]
  },
  {
   "cell_type": "markdown",
   "metadata": {},
   "source": [
    "- __Append Text Into File__\n",
    "    - Add new text in the end of your file"
   ]
  },
  {
   "cell_type": "code",
   "execution_count": 51,
   "metadata": {},
   "outputs": [],
   "source": [
    "file = open('3.txt','a')\n",
    "file.write(\"Python is amazing programming language. isn't it?\")\n",
    "file.close()"
   ]
  },
  {
   "cell_type": "markdown",
   "metadata": {},
   "source": [
    "- __The rename() method:__\n",
    "    - The rename() method takes two arguments, the current filename and the new file name\n",
    "    "
   ]
  },
  {
   "cell_type": "code",
   "execution_count": 53,
   "metadata": {},
   "outputs": [],
   "source": [
    "os.rename(\"1.txt\",\"test.txt\")"
   ]
  },
  {
   "cell_type": "markdown",
   "metadata": {},
   "source": [
    "- __The remove() method__\n",
    "    - You can use the remove() method to delete files by supplying the name of the file tobe deleted as the argument."
   ]
  },
  {
   "cell_type": "code",
   "execution_count": 55,
   "metadata": {},
   "outputs": [],
   "source": [
    "os.remove('test.txt')"
   ]
  },
  {
   "cell_type": "markdown",
   "metadata": {},
   "source": [
    "- __The mkdir() method__\n",
    "    - You can use the mkdir() method of the os module to create directories in the current directory. You need to supply an argument to this method which contains the name of the directory to be created."
   ]
  },
  {
   "cell_type": "code",
   "execution_count": 56,
   "metadata": {},
   "outputs": [],
   "source": [
    "os.mkdir(\"tesDir\")"
   ]
  },
  {
   "cell_type": "markdown",
   "metadata": {},
   "source": [
    "- __The chdir() Method__\n",
    "    - You can use the chdir() method to change the current directory. The chdir() method takes an argument, which is the name of the directory that you want to make the current directory."
   ]
  },
  {
   "cell_type": "code",
   "execution_count": 60,
   "metadata": {},
   "outputs": [],
   "source": [
    "#os.chdir('tesDir')\n",
    "os.chdir('/home/amin/Documents/Code/PythonProgrammingCourse')"
   ]
  },
  {
   "cell_type": "markdown",
   "metadata": {},
   "source": [
    "- __The getcwd() method__\n",
    "    - The getcwd() method displays the current working directory.\n",
    "    "
   ]
  },
  {
   "cell_type": "code",
   "execution_count": 61,
   "metadata": {},
   "outputs": [
    {
     "data": {
      "text/plain": [
       "'/home/amin/Documents/Code/PythonProgrammingCourse'"
      ]
     },
     "execution_count": 61,
     "metadata": {},
     "output_type": "execute_result"
    }
   ],
   "source": [
    "os.getcwd()"
   ]
  },
  {
   "cell_type": "markdown",
   "metadata": {},
   "source": [
    "- __The rmdir() method__\n",
    "    - The rmdir() method deletes the directory, which is passed as an argument in the method.\n",
    "    - Befor removing a directory, all the contents in it should be removed."
   ]
  },
  {
   "cell_type": "code",
   "execution_count": 64,
   "metadata": {},
   "outputs": [],
   "source": [
    "os.rmdir('Udemy-PythonProgramming/tesDir')"
   ]
  },
  {
   "cell_type": "markdown",
   "metadata": {},
   "source": [
    "- __Date & Time In Python__\n",
    "    - Getting current time "
   ]
  },
  {
   "cell_type": "code",
   "execution_count": 66,
   "metadata": {},
   "outputs": [
    {
     "name": "stdout",
     "output_type": "stream",
     "text": [
      "local current time: Sun May  1 12:41:40 2022\n"
     ]
    }
   ],
   "source": [
    "import time\n",
    "lt = time.asctime(time.localtime(time.time()))\n",
    "print(\"local current time:\",lt)"
   ]
  },
  {
   "cell_type": "code",
   "execution_count": 67,
   "metadata": {},
   "outputs": [
    {
     "name": "stdout",
     "output_type": "stream",
     "text": [
      "Welcome :D\n",
      "after 3 seconds\n"
     ]
    }
   ],
   "source": [
    "# Sleep method\n",
    "import time\n",
    "print('Welcome :D')\n",
    "time.sleep(3)\n",
    "print('after 3 seconds')"
   ]
  },
  {
   "cell_type": "code",
   "execution_count": 68,
   "metadata": {},
   "outputs": [
    {
     "name": "stdout",
     "output_type": "stream",
     "text": [
      "Here is the calendar:     January 2008\n",
      "Mo Tu We Th Fr Sa Su\n",
      "    1  2  3  4  5  6\n",
      " 7  8  9 10 11 12 13\n",
      "14 15 16 17 18 19 20\n",
      "21 22 23 24 25 26 27\n",
      "28 29 30 31\n",
      "\n"
     ]
    }
   ],
   "source": [
    "# Calendar\n",
    "import calendar\n",
    "\n",
    "cal = calendar.month(2008,1)\n",
    "print('Here is the calendar:',cal)"
   ]
  },
  {
   "cell_type": "markdown",
   "metadata": {},
   "source": [
    "#### Python Object Oriented Programming\n",
    "- __Object Oriented Programming__\n",
    "    - Developed 1960 (small talk)\n",
    "    - A paradigm for code organizing and design\n",
    "- __Why OOP:__\n",
    "    - OOP organize code so it is:\n",
    "        - Easier to use\n",
    "        Easier to understand\n",
    "        Easier to maintain and extend\n",
    "    - Learning OOP is a necessary next step into the larger world of software engineering\n",
    "- __Object Oriented Three Pillars:__\n",
    "    - Encapsulation\n",
    "    - Inheritance\n",
    "    - Polymorphism\n"
   ]
  },
  {
   "cell_type": "markdown",
   "metadata": {},
   "source": [
    "- __Everything is object__\n",
    "    - Every thing in python is an object of a particular type\n",
    "    - Is a unit of date (have one or more attibutes) of particular class or type with associated functionality (methods)"
   ]
  },
  {
   "cell_type": "code",
   "execution_count": 69,
   "metadata": {},
   "outputs": [
    {
     "name": "stdout",
     "output_type": "stream",
     "text": [
      "<class 'list'>\n",
      "<class 'bool'>\n",
      "<class 'NoneType'>\n",
      "<class 'type'>\n",
      "<class 'function'>\n"
     ]
    }
   ],
   "source": [
    "mylist = ['a','b','c']\n",
    "mybool = True\n",
    "mynone = None\n",
    "this_type = type(mylist)\n",
    "\n",
    "def myfunc():\n",
    "    print('hello')\n",
    "\n",
    "print(type(mylist))\n",
    "print(type(mybool))\n",
    "print(type(mynone))\n",
    "print(type(this_type))\n",
    "print(type(myfunc))"
   ]
  },
  {
   "cell_type": "markdown",
   "metadata": {},
   "source": [
    "- __What is Class?__\n",
    "    - A class is a blueprint or template or set of instructions to build a specific type og object.\n",
    "    - Every object is built from a class.\n",
    "    - Each class should be designed and programmed to accomplish one, and only one, thing."
   ]
  },
  {
   "cell_type": "markdown",
   "metadata": {},
   "source": [
    "- __What is Methods:__\n",
    "    - Is a python function that do some thing\n",
    "    - A callable attribute defined in the class\n",
    "    - Every method is attribute but not every attribute is a method."
   ]
  },
  {
   "cell_type": "code",
   "execution_count": 72,
   "metadata": {},
   "outputs": [],
   "source": [
    "# Attributes:\n",
    "class student():\n",
    "    def __init__(self,name,age):\n",
    "        self.name = name\n",
    "        self.age = age\n",
    "        self.balance = 0\n",
    "        self.credit = 50"
   ]
  },
  {
   "cell_type": "code",
   "execution_count": 73,
   "metadata": {},
   "outputs": [
    {
     "name": "stdout",
     "output_type": "stream",
     "text": [
      "0\n",
      "50\n"
     ]
    }
   ],
   "source": [
    "s = student('amin',27)\n",
    "print(s.balance)\n",
    "print(s.credit)"
   ]
  },
  {
   "cell_type": "markdown",
   "metadata": {},
   "source": [
    "- __Self:__\n",
    "    - Is a placeholder for the object"
   ]
  },
  {
   "cell_type": "code",
   "execution_count": 77,
   "metadata": {},
   "outputs": [
    {
     "name": "stdout",
     "output_type": "stream",
     "text": [
      "welcome\n"
     ]
    }
   ],
   "source": [
    "\n",
    "class myclass:\n",
    "    def test(self):\n",
    "        print('welcome')\n",
    "        print(self)\n",
    "\n",
    "this = myclass() #object\n",
    "this.test()\n",
    "print(this)"
   ]
  },
  {
   "cell_type": "markdown",
   "metadata": {},
   "source": [
    "- __Constructor:__\n",
    "    - A special type of method\n",
    "    - It is automatically called when the instance is contructed\n",
    "    "
   ]
  },
  {
   "cell_type": "code",
   "execution_count": 78,
   "metadata": {},
   "outputs": [],
   "source": [
    "class student:\n",
    "    def details(self, name, age):\n",
    "        self.name = name\n",
    "        self.age = age\n",
    "        print(\"the name is {} and the age is {}\".format(name,age))\n",
    "\n",
    "    def __init__(self):\n",
    "        print('you are welcome')"
   ]
  },
  {
   "cell_type": "code",
   "execution_count": 80,
   "metadata": {},
   "outputs": [
    {
     "name": "stdout",
     "output_type": "stream",
     "text": [
      "you are welcome\n",
      "the name is amin and the age is 27\n"
     ]
    }
   ],
   "source": [
    "s = student()\n",
    "s.details('amin',27)"
   ]
  },
  {
   "cell_type": "code",
   "execution_count": 82,
   "metadata": {},
   "outputs": [
    {
     "name": "stdout",
     "output_type": "stream",
     "text": [
      "you are welcome\n"
     ]
    },
    {
     "ename": "TypeError",
     "evalue": "details() missing 2 required positional arguments: 'name' and 'age'",
     "output_type": "error",
     "traceback": [
      "\u001b[0;31m---------------------------------------------------------------------------\u001b[0m",
      "\u001b[0;31mTypeError\u001b[0m                                 Traceback (most recent call last)",
      "\u001b[0;32m/tmp/ipykernel_14436/3485897138.py\u001b[0m in \u001b[0;36m<module>\u001b[0;34m\u001b[0m\n\u001b[1;32m      1\u001b[0m \u001b[0ms\u001b[0m \u001b[0;34m=\u001b[0m \u001b[0mstudent\u001b[0m\u001b[0;34m(\u001b[0m\u001b[0;34m)\u001b[0m\u001b[0;34m\u001b[0m\u001b[0;34m\u001b[0m\u001b[0m\n\u001b[0;32m----> 2\u001b[0;31m \u001b[0ms\u001b[0m\u001b[0;34m.\u001b[0m\u001b[0mdetails\u001b[0m\u001b[0;34m(\u001b[0m\u001b[0;34m)\u001b[0m\u001b[0;34m\u001b[0m\u001b[0;34m\u001b[0m\u001b[0m\n\u001b[0m",
      "\u001b[0;31mTypeError\u001b[0m: details() missing 2 required positional arguments: 'name' and 'age'"
     ]
    }
   ],
   "source": [
    "s = student()\n",
    "s.details()"
   ]
  },
  {
   "cell_type": "markdown",
   "metadata": {},
   "source": [
    "- __Class Attribute Vs Instance Attribute:__\n",
    "    - Attributes / variables in the class are accessible through the instance\n",
    "    - Instance attributes are also acccessible by the instance\n",
    "    - When use the syntax object. attribute we are asking to look up the attribute;\n",
    "        - First in the instance\n",
    "        - Then in the class\n",
    "    - A method on an instance passes instance as the first argument to the method(self)\n",
    "    - Instance have their own data called instance attributes\n",
    "    - Variables defined in the class are defined are class attributes\n",
    "    - When we read an attribute python looks for it first in the instance and then the class then in a aclass inherits from this class."
   ]
  },
  {
   "cell_type": "code",
   "execution_count": 83,
   "metadata": {},
   "outputs": [
    {
     "name": "stdout",
     "output_type": "stream",
     "text": [
      "class_value\n",
      "aminulloh\n",
      "class_value\n"
     ]
    }
   ],
   "source": [
    "class myclass(object):\n",
    "    class_value = 'class_value'\n",
    "d = myclass()\n",
    "print(d.class_value)\n",
    "\n",
    "d.class_value = 'aminulloh'\n",
    "print(d.class_value)\n",
    "\n",
    "del d.class_value\n",
    "print(d.class_value)"
   ]
  },
  {
   "cell_type": "markdown",
   "metadata": {},
   "source": [
    "__OPP Example 1__"
   ]
  },
  {
   "cell_type": "code",
   "execution_count": 90,
   "metadata": {},
   "outputs": [],
   "source": [
    " class student:\n",
    "    def __init__(self,name):\n",
    "        self.name = name\n",
    "        self.marks = []\n",
    "        print('welcome {} to the school'.format(name)) \n",
    "    \n",
    "    def addmarks(self, mark):\n",
    "        self.marks.append(mark)\n",
    "    \n",
    "    def avg(self):\n",
    "        return sum(self.marks)/len(self.marks)"
   ]
  },
  {
   "cell_type": "code",
   "execution_count": 95,
   "metadata": {},
   "outputs": [
    {
     "name": "stdout",
     "output_type": "stream",
     "text": [
      "welcome amin to the school\n",
      "amin\n",
      "[]\n",
      "[80, 56, 99, 88]\n"
     ]
    },
    {
     "data": {
      "text/plain": [
       "80.75"
      ]
     },
     "execution_count": 95,
     "metadata": {},
     "output_type": "execute_result"
    }
   ],
   "source": [
    "d = student('amin')\n",
    "print(d.name)\n",
    "print(d.marks)\n",
    "\n",
    "d.addmarks(80)\n",
    "d.addmarks(56)\n",
    "d.addmarks(99)\n",
    "d.addmarks(88)\n",
    "print(d.marks)\n",
    "d.avg()\n"
   ]
  },
  {
   "cell_type": "markdown",
   "metadata": {},
   "source": [
    "__OOP Example 2__"
   ]
  },
  {
   "cell_type": "code",
   "execution_count": 115,
   "metadata": {},
   "outputs": [
    {
     "name": "stdout",
     "output_type": "stream",
     "text": [
      "30\n",
      "200\n"
     ]
    }
   ],
   "source": [
    "class calculator:\n",
    "    def __init__(self,a,b):\n",
    "        self.a = a\n",
    "        self.b = b\n",
    "\n",
    "    def add(self):\n",
    "        return self.a + self.b\n",
    "    \n",
    "    def mull(self):\n",
    "        return self.a * self.b\n",
    "\n",
    "calc = calculator(10,20)\n",
    "print(calc.add())\n",
    "print(calc.mull())"
   ]
  },
  {
   "cell_type": "markdown",
   "metadata": {},
   "source": [
    "##### Inheritance Concept:\n",
    "- A class can inherite from another class its attributes and methods\n",
    "- The class can access attributes og the inherited parent class"
   ]
  },
  {
   "cell_type": "code",
   "execution_count": 101,
   "metadata": {},
   "outputs": [],
   "source": [
    "# Example 1\n",
    "class animal(object):\n",
    "    def __init__(self,name):\n",
    "        self.name = name\n",
    "    \n",
    "    def eat(self, food):\n",
    "        print('{} is eating {}'.format(self.name,food))\n",
    "    \n",
    "class dog(animal):\n",
    "    def fetch(self, thing):\n",
    "        print(\"{} get the {}\".format(self.name,thing))\n",
    "\n",
    "class cat(animal):\n",
    "    def cat_eat(self):\n",
    "        print('{} is eating food'.format(self.name))"
   ]
  },
  {
   "cell_type": "code",
   "execution_count": 102,
   "metadata": {},
   "outputs": [
    {
     "name": "stdout",
     "output_type": "stream",
     "text": [
      "dd is eating honey\n"
     ]
    }
   ],
   "source": [
    "d = dog('dd')\n",
    "d.eat('honey')"
   ]
  },
  {
   "cell_type": "code",
   "execution_count": 108,
   "metadata": {},
   "outputs": [
    {
     "name": "stdout",
     "output_type": "stream",
     "text": [
      "tikus\n",
      "tikus is eating food\n"
     ]
    }
   ],
   "source": [
    "c = cat('tikus')\n",
    "print(c.name)\n",
    "c.cat_eat()"
   ]
  },
  {
   "cell_type": "markdown",
   "metadata": {},
   "source": [
    "##### Example 2\n"
   ]
  },
  {
   "cell_type": "code",
   "execution_count": 109,
   "metadata": {},
   "outputs": [],
   "source": [
    "class calculator:\n",
    "    def __init__(self,x,y):\n",
    "        self.x = x\n",
    "        self.y = y\n",
    "    \n",
    "    def sum(self):\n",
    "        return self.x + self.y\n",
    "    \n",
    "    def product(self):\n",
    "        return self.x * self.y\n",
    "    \n",
    "class scientific(calculator):\n",
    "    def power(self):\n",
    "        return pow(self.x,self.y)"
   ]
  },
  {
   "cell_type": "code",
   "execution_count": 111,
   "metadata": {},
   "outputs": [
    {
     "name": "stdout",
     "output_type": "stream",
     "text": [
      "25\n",
      "7\n",
      "10\n"
     ]
    }
   ],
   "source": [
    "c = scientific(5,2)\n",
    "print(c.power())\n",
    "print(c.sum())\n",
    "print(c.product())"
   ]
  },
  {
   "cell_type": "markdown",
   "metadata": {},
   "source": [
    "##### Example 3"
   ]
  },
  {
   "cell_type": "code",
   "execution_count": 112,
   "metadata": {},
   "outputs": [],
   "source": [
    "class Date(object):\n",
    "    def get_date(self):\n",
    "        return '2019-03-24'\n",
    "\n",
    "class Time(Date):\n",
    "    def get_time(self):\n",
    "        return '05:13:07'"
   ]
  },
  {
   "cell_type": "code",
   "execution_count": 113,
   "metadata": {},
   "outputs": [
    {
     "name": "stdout",
     "output_type": "stream",
     "text": [
      "2019-03-24\n",
      "05:13:07\n",
      "2019-03-24\n"
     ]
    }
   ],
   "source": [
    "d = Date()\n",
    "print(d.get_date())\n",
    "\n",
    "t = Time()\n",
    "print(t.get_time())\n",
    "print(t.get_date())"
   ]
  },
  {
   "cell_type": "markdown",
   "metadata": {},
   "source": [
    "- __Some Onheritance Terms:__\n",
    "    - An Inheriting class:\n",
    "        - Child class\n",
    "        - Derived class\n",
    "        - Subclass\n",
    "    - An Inheritated class:\n",
    "        - Parent class\n",
    "        - Base class\n",
    "        - Super class"
   ]
  },
  {
   "cell_type": "markdown",
   "metadata": {},
   "source": [
    "##### Poly morphism\n",
    "- __What is a polymorphism?__\n",
    "    - The third pillar of OOP\n",
    "    - Two classes with same interface (ex: method name)\n",
    "    - The methods are often different, but conceptially similar"
   ]
  },
  {
   "cell_type": "code",
   "execution_count": 118,
   "metadata": {},
   "outputs": [],
   "source": [
    "class Animal(object):\n",
    "    def __init__(self,name):\n",
    "        self.name = name\n",
    "\n",
    "    def eat(self, food):\n",
    "        print('{0} eatc {1}'.format(self.name, food))\n",
    "\n",
    "class Dog(Animal):\n",
    "    def fetch(self, thing):\n",
    "        print('{0} goes after the {1}'.format(self.name,thing))\n",
    "    \n",
    "    def show_affection(self):\n",
    "        print('{0} wags tail'.format(self.name))\n",
    "\n",
    "class Cat(Animal):\n",
    "    def swatstring(self):\n",
    "        print('{0} shreds the string'.format(self.name))\n",
    "    \n",
    "    def show_affection(self):\n",
    "        print('{0} purrs'.format(self.name))"
   ]
  },
  {
   "cell_type": "code",
   "execution_count": 119,
   "metadata": {},
   "outputs": [
    {
     "name": "stdout",
     "output_type": "stream",
     "text": [
      "misho wags tail\n",
      "shosho purrs\n",
      "nemo purrs\n",
      "scot wags tail\n"
     ]
    }
   ],
   "source": [
    "for a in (Dog('misho'),Cat('shosho'),Cat('nemo'),Dog('scot')):\n",
    "    a.show_affection()"
   ]
  },
  {
   "cell_type": "markdown",
   "metadata": {},
   "source": [
    "##### Constructor Inheritance (Super)\n",
    "- __Super:__\n",
    "    - Used to relate the class with it's parent class\n",
    "    - If the class does not have an __init__ constructor pythin will check its parent class\n",
    "    - We use super() function to call methods in the parent class"
   ]
  },
  {
   "cell_type": "code",
   "execution_count": 120,
   "metadata": {},
   "outputs": [],
   "source": [
    "class Animal(object):\n",
    "    def __init__(self,name):\n",
    "        self.name = name\n",
    "    \n",
    "    def eat(self, food):\n",
    "        print('%s is eating %s' % (self.name, food))\n",
    "    \n",
    "class Dog(Animal):\n",
    "    def fetch(self,thing):\n",
    "        print('%s goes after the %s' %(self.name, thing))"
   ]
  },
  {
   "cell_type": "code",
   "execution_count": 121,
   "metadata": {},
   "outputs": [
    {
     "name": "stdout",
     "output_type": "stream",
     "text": [
      "mishoe\n"
     ]
    }
   ],
   "source": [
    "d = Dog('mishoe')\n",
    "print(d.name) "
   ]
  },
  {
   "cell_type": "code",
   "execution_count": 122,
   "metadata": {},
   "outputs": [],
   "source": [
    "class Animal(object):\n",
    "    def __init__(self,name):\n",
    "        self.name = name\n",
    "    \n",
    "    def eat(self, food):\n",
    "        print('%s is eating %s' % (self.name, food))\n",
    "    \n",
    "class Dog(Animal):\n",
    "    def __init__(self,name):\n",
    "        super(Dog,self).__init__(name)\n",
    "        self.food = 'fish'\n",
    "\n",
    "    def fetch(self,thing):\n",
    "        print('%s goes after the %s' %(self.name, thing))"
   ]
  },
  {
   "cell_type": "code",
   "execution_count": null,
   "metadata": {},
   "outputs": [],
   "source": [
    "d = Dog('misho')\n",
    "print(d.name)\n",
    "print(d.food)"
   ]
  },
  {
   "cell_type": "markdown",
   "metadata": {},
   "source": [
    "##### Multiple Inheritance\n",
    "- __Multiple inheritance:__\n",
    "    - If there in a multiple inheritance python will work with depth-first by default\n",
    "    - Mro (method resolution order): D-B-A-C\n",
    "<br /><img src='./img/MultipleInheritance.png'>\n"
   ]
  },
  {
   "cell_type": "code",
   "execution_count": 123,
   "metadata": {},
   "outputs": [],
   "source": [
    "class A(object):\n",
    "    def dothis(self):\n",
    "        print('Doing this in A')\n",
    "    \n",
    "class B(A):\n",
    "    pass\n",
    "\n",
    "class C(object):\n",
    "    def dothis(self):\n",
    "        print('Doing this in C')\n",
    "\n",
    "class D(B,C):\n",
    "    pass"
   ]
  },
  {
   "cell_type": "code",
   "execution_count": 124,
   "metadata": {},
   "outputs": [
    {
     "name": "stdout",
     "output_type": "stream",
     "text": [
      "Doing this in A\n",
      "[<class '__main__.D'>, <class '__main__.B'>, <class '__main__.A'>, <class '__main__.C'>, <class 'object'>]\n"
     ]
    }
   ],
   "source": [
    "d = D()\n",
    "d.dothis()\n",
    "print(D.mro())"
   ]
  },
  {
   "cell_type": "markdown",
   "metadata": {},
   "source": [
    "#### Python Projects"
   ]
  },
  {
   "cell_type": "markdown",
   "metadata": {},
   "source": [
    "##### Project 1 Gussing Game"
   ]
  }
 ],
 "metadata": {
  "interpreter": {
   "hash": "8e0d0260e1f3d0b9823b804dc5934a8bd3512d2d0af3147365a0766f6dd8bfcd"
  },
  "kernelspec": {
   "display_name": "Python 3.9.7 ('base')",
   "language": "python",
   "name": "python3"
  },
  "language_info": {
   "codemirror_mode": {
    "name": "ipython",
    "version": 3
   },
   "file_extension": ".py",
   "mimetype": "text/x-python",
   "name": "python",
   "nbconvert_exporter": "python",
   "pygments_lexer": "ipython3",
   "version": "3.9.7"
  },
  "orig_nbformat": 4
 },
 "nbformat": 4,
 "nbformat_minor": 2
}
